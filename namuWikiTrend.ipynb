{
 "cells": [
  {
   "cell_type": "code",
   "execution_count": 1,
   "metadata": {},
   "outputs": [
    {
     "name": "stdout",
     "output_type": "stream",
     "text": [
      "Collecting lxml\n",
      "  Downloading lxml-4.6.1-cp38-cp38-win_amd64.whl (3.5 MB)\n",
      "Collecting beautifulsoup4\n",
      "  Using cached beautifulsoup4-4.9.3-py3-none-any.whl (115 kB)\n",
      "Collecting requests\n",
      "  Downloading requests-2.24.0-py2.py3-none-any.whl (61 kB)\n",
      "Collecting soupsieve>1.2; python_version >= \"3.0\"\n",
      "  Using cached soupsieve-2.0.1-py3-none-any.whl (32 kB)\n",
      "Collecting idna<3,>=2.5\n",
      "  Downloading idna-2.10-py2.py3-none-any.whl (58 kB)\n",
      "Collecting urllib3!=1.25.0,!=1.25.1,<1.26,>=1.21.1\n",
      "  Downloading urllib3-1.25.11-py2.py3-none-any.whl (127 kB)\n",
      "Requirement already satisfied: certifi>=2017.4.17 in c:\\anaconda\\envs\\kelly\\lib\\site-packages (from requests) (2020.6.20)\n",
      "Collecting chardet<4,>=3.0.2\n",
      "  Downloading chardet-3.0.4-py2.py3-none-any.whl (133 kB)\n",
      "Installing collected packages: lxml, soupsieve, beautifulsoup4, idna, urllib3, chardet, requests\n",
      "Successfully installed beautifulsoup4-4.9.3 chardet-3.0.4 idna-2.10 lxml-4.6.1 requests-2.24.0 soupsieve-2.0.1 urllib3-1.25.11\n"
     ]
    }
   ],
   "source": [
    "!pip install lxml beautifulsoup4 requests"
   ]
  },
  {
   "cell_type": "code",
   "execution_count": null,
   "metadata": {},
   "outputs": [],
   "source": [
    "# -*- coding: utf-8 -*-\n",
    "\n",
    "%matplotlib inline\n",
    "\n",
    "import pandas as pd\n",
    "import numpy as np\n",
    "import matplotlib.pyplot as plt\n",
    "\n",
    "import warnings\n",
    "warnings.filterwarnings(\"ignore\")"
   ]
  },
  {
   "cell_type": "markdown",
   "metadata": {},
   "source": [
    "# <Step1. 크롤링> : 크롤링으로 웹 데이터 가져오기"
   ]
  },
  {
   "cell_type": "markdown",
   "metadata": {},
   "source": [
    "페이지 리스트 가져오기"
   ]
  },
  {
   "cell_type": "code",
   "execution_count": 135,
   "metadata": {},
   "outputs": [
    {
     "name": "stdout",
     "output_type": "stream",
     "text": [
      "https://namu.wiki/w/KBO%20%EC%A4%80%ED%94%8C%EB%A0%88%EC%9D%B4%EC%98%A4%ED%94%84/2017%EB%85%84/1%EC%B0%A8%EC%A0%84\n",
      "https://namu.wiki/w/Tower%20Defense%20Simulator/%ED%83%80%EC%9B%8C\n",
      "https://namu.wiki/w/%EB%B6%84%EB%A5%98:%EC%A0%95%EC%82%AC%EA%B3%B5%EC%8B%A0\n",
      "https://namu.wiki/w/%EB%A3%A8%EB%8B%88%EC%98%A4%20%EB%84%B7%EC%B9%B4%EB%A7%88%20%EB%B0%8F%20%EC%82%AC%EA%B8%B0%20%EC%9D%98%ED%98%B9\n",
      "https://namu.wiki/w/%ED%94%84%EB%9E%80%EC%B2%B4%EC%8A%A4%EC%BD%94%20%ED%86%A0%ED%8B%B0\n"
     ]
    }
   ],
   "source": [
    "import requests\n",
    "from bs4 import BeautifulSoup\n",
    "import re\n",
    "\n",
    "# 크롤링할 사이트 주소를 정의합니다.\n",
    "source_url = \"https://namu.wiki/RecentChanges\"\n",
    "\n",
    "# 사이트의 html 구조에 기반하여 크롤링을 수행합니다.\n",
    "req = requests.get(source_url)\n",
    "html = req.content\n",
    "soup = BeautifulSoup(html, 'lxml')\n",
    "contents_table = soup.find(name=\"table\")\n",
    "table_body = contents_table.find(name=\"tbody\")\n",
    "table_rows = table_body.find_all(name=\"tr\")"
   ]
  },
  {
   "cell_type": "code",
   "execution_count": 136,
   "metadata": {},
   "outputs": [
    {
     "name": "stdout",
     "output_type": "stream",
     "text": [
      "https://namu.wiki/w/%EB%B2%84%EC%A6%88(JA2)\n",
      "https://namu.wiki/w/%EB%B4%89%ED%99%A9%EB%8C%80%EA%B8%B0%20%EC%A0%84%EA%B5%AD%EA%B3%A0%EA%B5%90%EC%95%BC%EA%B5%AC%EB%8C%80%ED%9A%8C\n",
      "https://namu.wiki/w/%EC%8B%A0%EC%97%BC\n",
      "https://namu.wiki/w/%EB%A7%88%EC%9D%B8%ED%81%AC%EB%9E%98%ED%94%84%ED%8A%B8/%EC%95%84%EC%9D%B4%ED%85%9C/%EB%8F%84%EA%B5%AC\n",
      "https://namu.wiki/w/%EC%B0%B8%EC%88%98%ED%98%95\n"
     ]
    }
   ],
   "source": [
    "# a태그의 href 속성을 리스트로 추출하여, 크롤링 할 페이지 리스트를 생성합니다.\n",
    "page_url_base = \"https://namu.wiki\"\n",
    "page_urls = []\n",
    "for index in range(0, len(table_rows)):\n",
    "    first_td = table_rows[index].find_all('td')[0]\n",
    "    td_url = first_td.find_all('a')\n",
    "    if len(td_url) > 0:\n",
    "        page_url = page_url_base + td_url[0].get('href')\n",
    "        if 'png' not in page_url:\n",
    "            page_urls.append(page_url)\n",
    "\n",
    "# 중복 url을 제거합니다.\n",
    "page_urls = list(set(page_urls))\n",
    "for page in page_urls[:5]:\n",
    "    print(page)"
   ]
  },
  {
   "cell_type": "markdown",
   "metadata": {},
   "source": [
    "페이지내 텍스트 구조 확인"
   ]
  },
  {
   "cell_type": "code",
   "execution_count": 137,
   "metadata": {},
   "outputs": [
    {
     "name": "stdout",
     "output_type": "stream",
     "text": [
      "버즈(JA2) \n",
      "\n",
      "\n",
      "재기드 얼라이언스 2\n",
      "\n",
      "\n",
      "Let me make it clear, I hate everybody. And I mean everybody! 분명히 말해 두는데, 난 인간이 싫어! 전부 다!과거 버즈 가뉴의 삶은 몇 번의 큰 변화를 겪었습니다. 링스와 크게 다툰 뒤 둘은 같은 하늘 아래 사는 것조차 불쾌해하는 사이가 되었습니다. 그녀가 모든 것을 털어넣은 책 \"언더 커버, 언더 링스(Under Cover, Under Lynx)\"는 원고를 본 모든 출판사에서 퇴짜를 맞았습니다. 상처밖에 남지 않은 그녀는 화기를 가지고 분노를 발산합니다.추가 정보: 가뉴는 최근 중화기 전문가 과정을 수료했습니다.Buzz. 재기드 얼라이언스 시리즈의 등장인물.본명은 루이자 가뉴(Louisa Garneau). 1편부터 등장한 레귤러 용병으로, A.I.M 소속이다.레벨4하루 비용$2200체력71힘68민첩성84솜씨47지혜90사격술96기존 특기자동 화기, 중화기1.13 특기자동 화기, 자동 화기, 중화기특이 사항싸이코 성향, 동료가 사망해도 고용에 지장 없음여성 용병 중에서는 멜트다운과 함께 가장 과격한 성향. A.I.M 용병들 중에서 같은 싸이코 성향이 있는 피델과 비슷한 수준이다. 사실 피델은 개그 캐릭터에 가까워 또라이짓은 하고 다녀도 의도적으로 악의를 띄고 악행을 저지르는 수준은 아닌 반면, 버즈는 같은 A.I.M 출신 용병인 링스(Rudy \"Lynx-eyed\" Roberts)와 연인 관계였다가 일방적으로 차인 바람에 한이 서려 진심으로 악에 받혔다는 차이점이 있다. 링스와 같이 있으면 곁에서 보는 입장에서 추해 보일낮부끄러울 정도로 아귀다툼을 해 대며, 아예 A.I.M 홈페이지에도 절대 링스와 같이 붙이지 말라고 강력하게 권고하고 있다. 남성을 죽이면 추가로 냉소적인 대사를 하며, 명령을 내릴 때 가끔씩 플레이어(=자기 고용주)에게 뜸들이지 말고 빨리빨리 말하라며 신경질도 부린다.그 한을 총기 훈련에 왕창 쏟아부었다는 뒷이야기답게 기관총 하나는 시원하게 잘 쏘고 잘 맞춘다. 싸이코 성향 때문에 일정 확률로 명령을 무시하고 AP가 떨어질 때까지 총을 왕창 난사하는 패널티가 있지만, 어차피 기관총은 제압 사격용으로 무조건 많이 쏘는 것이 정석인지라 아무도 신경쓰지 않는다. 물론 원본 게임에서는 전혀 메리트가 없는 특성이고, 제압 사격 개념이 존재하는 1.13 모드에서 빛을 발한다. 수십 명씩 뭉쳐 있는 적 부대도 홀몸으로 붙잡아 둘 수 있다.문제는 기관총 쏘는 것 외에는 거의 아무것도 할 줄 모른다는 것. 힘 수치는 기관총과 탄통 3개에 PDW 하나 쥐어 주면 딱 무게 제한 100%에 아슬아슬하게 안 닿는 수준이기 때문에 곁다리로 붙어 있는 중화기 특기는 살리기 힘들다. 지혜 수치가 높기는 하지만 새로운 역할을 처음부터 가르치기에는 또 일당이 지나치게 비싸다. 그나마 1.13 모드에서 경량형 박격포가 등장하여 박격포병을 겸할 수 있다는 것이 위안[1]. 정 새로운 역할을 붙이고 싶으면 지뢰를 심었다 해체했다 하면서 폭발물 특기를 가르칠 수 있겠지만...캠브리아 근방의 깡패들(자칭 저항군)과 이벤트로 여성 용병을 아무나 보내서 결혼을 시킬 수 있는데, 이때 버즈를 보내면 \"웃기지 마! 난 내 총이랑 결혼할 거란 말이야!\"라며 버럭 화를 낸다(…). 예상치 못한 부분에서 유저들을 빵 터뜨린 명대사 중 하나.\n"
     ]
    }
   ],
   "source": [
    "req = requests.get(page_urls[0])\n",
    "html = req.content\n",
    "soup = BeautifulSoup(html, 'lxml')\n",
    "contents_table = soup.find(name=\"article\")\n",
    "title = contents_table.find_all('h1')[0]\n",
    "category = contents_table.find_all('ul')[0]\n",
    "content_paragraphs = contents_table.find_all(name=\"div\", attrs={\"class\":\"wiki-paragraph\"})\n",
    "content_corpus_list = []\n",
    "\n",
    "for paragraphs in content_paragraphs:\n",
    "    content_corpus_list.append(paragraphs.text)\n",
    "content_corpus = \"\".join(content_corpus_list)\n",
    "\n",
    "print(title.text)\n",
    "print(\"\\n\")\n",
    "print(category.text)\n",
    "print(\"\\n\")\n",
    "print(content_corpus)"
   ]
  },
  {
   "cell_type": "markdown",
   "metadata": {},
   "source": [
    "### [나무위키 최근변경 데이터 크롤링]"
   ]
  },
  {
   "cell_type": "code",
   "execution_count": 138,
   "metadata": {},
   "outputs": [],
   "source": [
    "# 크롤링한 데이터를 데이터 프레임으로 만들기 위해 준비합니다.\n",
    "columns = ['title', 'category', 'content_text']\n",
    "df = pd.DataFrame(columns=columns)\n",
    "\n",
    "# 각 페이지별 '제목', '카테고리', '본문' 정보를 데이터 프레임으로 만듭니다.\n",
    "for page_url in page_urls:\n",
    "\n",
    "    # 사이트의 html 구조에 기반하여 크롤링을 수행합니다.\n",
    "    req = requests.get(page_url)\n",
    "    html = req.content\n",
    "    soup = BeautifulSoup(html, 'lxml')\n",
    "    contents_table = soup.find(name=\"article\")\n",
    "    title = contents_table.find_all('h1')[0]\n",
    "    \n",
    "    # 카테고리 정보가 없는 경우를 확인합니다.\n",
    "    if len(contents_table.find_all('ul')) > 0:\n",
    "        category = contents_table.find_all('ul')[0]\n",
    "    else:\n",
    "        category = None\n",
    "        \n",
    "    content_paragraphs = contents_table.find_all(name=\"div\", attrs={\"class\":\"wiki-paragraph\"})\n",
    "    content_corpus_list = []\n",
    "    \n",
    "    # 페이지 내 제목 정보에서 개행 문자를 제거한 뒤 추출합니다. 만약 없는 경우, 빈 문자열로 대체합니다.\n",
    "    if title is not None:\n",
    "        row_title = title.text.replace(\"\\n\", \" \")\n",
    "    else:\n",
    "        row_title = \"\"\n",
    "    \n",
    "    # 페이지 내 본문 정보에서 개행 문자를 제거한 뒤 추출합니다. 만약 없는 경우, 빈 문자열로 대체합니다.\n",
    "    if content_paragraphs is not None:\n",
    "        for paragraphs in content_paragraphs:\n",
    "            if paragraphs is not None:\n",
    "                content_corpus_list.append(paragraphs.text.replace(\"\\n\", \" \"))\n",
    "            else:\n",
    "                content_corpus_list.append(\"\")\n",
    "    else:\n",
    "        content_corpus_list.append(\"\")\n",
    "        \n",
    "    # 페이지 내 카테고리정보에서 “분류”라는 단어와 개행 문자를 제거한 뒤 추출합니다. 만약 없는 경우, 빈 문자열로 대체합니다.\n",
    "    if category is not None:\n",
    "        row_category = category.text.replace(\"\\n\", \" \")\n",
    "    else:\n",
    "        row_category = \"\"\n",
    "    \n",
    "    # 모든 정보를 하나의 데이터 프레임에 저장합니다.\n",
    "    row = [row_title, row_category, \"\".join(content_corpus_list)]\n",
    "    series = pd.Series(row, index=df.columns)\n",
    "    df = df.append(series, ignore_index=True)"
   ]
  },
  {
   "cell_type": "code",
   "execution_count": 139,
   "metadata": {},
   "outputs": [
    {
     "data": {
      "text/html": [
       "<div>\n",
       "<style scoped>\n",
       "    .dataframe tbody tr th:only-of-type {\n",
       "        vertical-align: middle;\n",
       "    }\n",
       "\n",
       "    .dataframe tbody tr th {\n",
       "        vertical-align: top;\n",
       "    }\n",
       "\n",
       "    .dataframe thead th {\n",
       "        text-align: right;\n",
       "    }\n",
       "</style>\n",
       "<table border=\"1\" class=\"dataframe\">\n",
       "  <thead>\n",
       "    <tr style=\"text-align: right;\">\n",
       "      <th></th>\n",
       "      <th>title</th>\n",
       "      <th>category</th>\n",
       "      <th>content_text</th>\n",
       "    </tr>\n",
       "  </thead>\n",
       "  <tbody>\n",
       "    <tr>\n",
       "      <th>0</th>\n",
       "      <td>버즈(JA2)</td>\n",
       "      <td>재기드 얼라이언스 2</td>\n",
       "      <td>Let me make it clear, I hate everybody. And I ...</td>\n",
       "    </tr>\n",
       "    <tr>\n",
       "      <th>1</th>\n",
       "      <td>봉황대기 전국고교야구대회</td>\n",
       "      <td>대한민국의 고교야구</td>\n",
       "      <td>대한민국의 야구 리그 [ 펼치기 · 접기 ]구분 명칭프로 1군  KBO 리그  2...</td>\n",
       "    </tr>\n",
       "    <tr>\n",
       "      <th>2</th>\n",
       "      <td>신염</td>\n",
       "      <td>신의 눈/불원신/플레이어블 캐릭터/양손검뮤지션 캐릭터</td>\n",
       "      <td>플레이어블 캐릭터 [ 펼치기 · 접기 ]원소★캐릭터주인공★ 5여행자불★ 4엠버향릉베...</td>\n",
       "    </tr>\n",
       "    <tr>\n",
       "      <th>3</th>\n",
       "      <td>마인크래프트/아이템/도구</td>\n",
       "      <td>마인크래프트/아이템</td>\n",
       "      <td>상위 문서: 마인크래프트/아이템아이템 관련 문서건축 블록장식 블록레드스톤수송...</td>\n",
       "    </tr>\n",
       "    <tr>\n",
       "      <th>4</th>\n",
       "      <td>참수형</td>\n",
       "      <td>사형</td>\n",
       "      <td>1. 개요2. 참수형의 어려움3. 명예로운 죽음4. 도끼냐 검이냐 그것이 문제로다5...</td>\n",
       "    </tr>\n",
       "  </tbody>\n",
       "</table>\n",
       "</div>"
      ],
      "text/plain": [
       "            title                       category  \\\n",
       "0        버즈(JA2)                     재기드 얼라이언스 2   \n",
       "1  봉황대기 전국고교야구대회                      대한민국의 고교야구   \n",
       "2             신염   신의 눈/불원신/플레이어블 캐릭터/양손검뮤지션 캐릭터   \n",
       "3  마인크래프트/아이템/도구                      마인크래프트/아이템   \n",
       "4            참수형                              사형   \n",
       "\n",
       "                                        content_text  \n",
       "0  Let me make it clear, I hate everybody. And I ...  \n",
       "1   대한민국의 야구 리그 [ 펼치기 · 접기 ]구분 명칭프로 1군  KBO 리그  2...  \n",
       "2  플레이어블 캐릭터 [ 펼치기 · 접기 ]원소★캐릭터주인공★ 5여행자불★ 4엠버향릉베...  \n",
       "3      상위 문서: 마인크래프트/아이템아이템 관련 문서건축 블록장식 블록레드스톤수송...  \n",
       "4  1. 개요2. 참수형의 어려움3. 명예로운 죽음4. 도끼냐 검이냐 그것이 문제로다5...  "
      ]
     },
     "execution_count": 139,
     "metadata": {},
     "output_type": "execute_result"
    }
   ],
   "source": [
    "# 데이터 프레임을 출력합니다.\n",
    "df.head(5)"
   ]
  },
  {
   "cell_type": "markdown",
   "metadata": {},
   "source": [
    "# <Step2. 추출> : 키워드 추출"
   ]
  },
  {
   "cell_type": "markdown",
   "metadata": {},
   "source": [
    "### [텍스트 데이터 전처리]"
   ]
  },
  {
   "cell_type": "code",
   "execution_count": null,
   "metadata": {},
   "outputs": [],
   "source": []
  }
 ],
 "metadata": {
  "kernelspec": {
   "display_name": "Python 3",
   "language": "python",
   "name": "python3"
  },
  "language_info": {
   "codemirror_mode": {
    "name": "ipython",
    "version": 3
   },
   "file_extension": ".py",
   "mimetype": "text/x-python",
   "name": "python",
   "nbconvert_exporter": "python",
   "pygments_lexer": "ipython3",
   "version": "3.8.5"
  }
 },
 "nbformat": 4,
 "nbformat_minor": 4
}
